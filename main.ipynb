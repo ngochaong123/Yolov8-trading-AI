{
 "cells": [
  {
   "cell_type": "code",
   "execution_count": null,
   "id": "b3b75532",
   "metadata": {},
   "outputs": [],
   "source": [
    "# !pip uninstall torch torchvision torchaudio -y\n",
    "# !pip install torch torchvision torchaudio --index-url https://download.pytorch.org/whl/cu118 "
   ]
  },
  {
   "cell_type": "code",
   "execution_count": null,
   "id": "2aa0ada3",
   "metadata": {},
   "outputs": [],
   "source": [
    "!pip install roboflow opencv-python matplotlib ultralytics"
   ]
  },
  {
   "cell_type": "code",
   "execution_count": null,
   "id": "b6c0a78c",
   "metadata": {},
   "outputs": [],
   "source": [
    "import torch\n",
    "\n",
    "print(\"Torch version:\", torch.__version__)\n",
    "print(\"CUDA version:\", torch.version.cuda)\n",
    "print(\"CUDA available:\", torch.cuda.is_available())\n",
    "if torch.cuda.is_available():\n",
    "    print(\"GPU:\", torch.cuda.get_device_name(0))\n"
   ]
  },
  {
   "cell_type": "code",
   "execution_count": null,
   "id": "fa5bc38f",
   "metadata": {},
   "outputs": [],
   "source": [
    "from roboflow import Roboflow\n",
    "rf = Roboflow(api_key=\"puWNSw1Du2OCFEHTegQs\")\n",
    "project = rf.workspace(\"trading-al\").project(\"project-trading-yolov5-v1\")\n",
    "version = project.version(3)\n",
    "dataset = version.download(\"yolov8-obb\")             "
   ]
  },
  {
   "cell_type": "code",
   "execution_count": null,
   "id": "de2ecc2d",
   "metadata": {},
   "outputs": [],
   "source": [
    "from ultralytics import YOLO\n",
    "\n",
    "model = YOLO(\"yolov8m.pt\")  # Model trung bình, chính xác hơn yolov8s\n",
    "\n",
    "model.train(\n",
    "    data=r\"D:\\Yolov8 trading AL\\project-trading-yolov5-v1--3\\data.yaml\",\n",
    "    epochs=150,          # Cho model nhiều thời gian học\n",
    "    imgsz=768,           # Hình ảnh lớn hơn => phát hiện vật thể nhỏ tốt hơn\n",
    "    batch=32,            # Cân bằng giữa VRAM và hiệu quả\n",
    "    workers=4,\n",
    "    device=0,\n",
    "    amp=True,            # Mixed precision: tăng tốc, tiết kiệm RAM\n",
    "    patience=15,         # Early stopping thông minh\n",
    "    lr0=0.01,\n",
    "    lrf=0.01,\n",
    "    project=\"my_model\",\n",
    "    name=\"yolov8m_highacc\",\n",
    "    exist_ok=True\n",
    ")"
   ]
  },
  {
   "cell_type": "code",
   "execution_count": null,
   "id": "b5cb384b",
   "metadata": {},
   "outputs": [],
   "source": [
    "from ultralytics import YOLO\n",
    "\n",
    "model = YOLO(\"yolov8s.pt\")  # hoặc yolov8n.pt nếu máy yếu\n",
    "\n",
    "# Huấn luyện mô hình\n",
    "model.train(data=\"D:\\Yolov8 trading AL\\project-trading-yolov5-v1--3\\data.yaml\", epochs=100, imgsz=640, batch=32, project=\"my_model\", name=\"my_yolov8\", exist_ok=True)\n"
   ]
  },
  {
   "cell_type": "code",
   "execution_count": null,
   "id": "73ba8b47",
   "metadata": {},
   "outputs": [],
   "source": [
    "import cv2\n",
    "import os\n",
    "from ultralytics import YOLO\n",
    "\n",
    "# Đường dẫn mô hình YOLOv8 đã huấn luyện\n",
    "model_path = 'my_model/my_yolov8/weights/best.pt'\n",
    "\n",
    "# Kiểm tra mô hình\n",
    "if not os.path.exists(model_path):\n",
    "    print(\"❌ Không tìm thấy file mô hình:\", model_path)\n",
    "    exit()\n",
    "\n",
    "# Tải mô hình YOLOv8\n",
    "model = YOLO(model_path)\n",
    "\n",
    "# Mở webcam\n",
    "cap = cv2.VideoCapture(0)\n",
    "if not cap.isOpened():\n",
    "    print(\"❌ Không thể mở webcam.\")\n",
    "    exit()\n",
    "\n",
    "# Thiết lập độ phân giải 1300x731 (tỷ lệ 16:9)\n",
    "cap.set(cv2.CAP_PROP_FRAME_WIDTH, 1300)\n",
    "cap.set(cv2.CAP_PROP_FRAME_HEIGHT, 731)\n",
    "\n",
    "while True:\n",
    "    ret, frame = cap.read()\n",
    "    if not ret:\n",
    "        print(\"❌ Không thể đọc từ webcam.\")\n",
    "        break\n",
    "\n",
    "    # Suy luận\n",
    "    results = model.predict(source=frame, imgsz=640, conf=0.3)\n",
    "\n",
    "    # Gán kết quả vào frame đã annotate\n",
    "    annotated_frame = results[0].plot()\n",
    "\n",
    "    # Hiển thị\n",
    "    cv2.imshow(\"YOLOv8 Detection (1920x1080)\", annotated_frame)\n",
    "\n",
    "    if cv2.waitKey(1) & 0xFF == ord('q'):\n",
    "        break\n",
    "\n",
    "cap.release()\n",
    "cv2.destroyAllWindows()\n"
   ]
  }
 ],
 "metadata": {
  "kernelspec": {
   "display_name": "Python 3.10 (CUDA)",
   "language": "python",
   "name": "py310-cuda"
  },
  "language_info": {
   "codemirror_mode": {
    "name": "ipython",
    "version": 3
   },
   "file_extension": ".py",
   "mimetype": "text/x-python",
   "name": "python",
   "nbconvert_exporter": "python",
   "pygments_lexer": "ipython3",
   "version": "3.10.0"
  }
 },
 "nbformat": 4,
 "nbformat_minor": 5
}
